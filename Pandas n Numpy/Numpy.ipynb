{
 "cells": [
  {
   "cell_type": "markdown",
   "id": "56151950-bdfa-4765-96d8-5f295a494eb4",
   "metadata": {},
   "source": [
    "Numpy"
   ]
  },
  {
   "cell_type": "code",
   "execution_count": null,
   "id": "3c9b71f4-d3e9-4d24-b7ea-54684a2f9908",
   "metadata": {},
   "outputs": [],
   "source": [
    "#Numpy is like list or tuples but stores the elements of the same datatype. This property makes it faster"
   ]
  },
  {
   "cell_type": "code",
   "execution_count": 3,
   "id": "6aefed70-fb6a-4edd-976c-8c624b8e4169",
   "metadata": {},
   "outputs": [],
   "source": [
    "import numpy as np"
   ]
  },
  {
   "cell_type": "code",
   "execution_count": 10,
   "id": "7872f03c-87f7-4051-8c87-6bc6ad0bfb6d",
   "metadata": {},
   "outputs": [],
   "source": [
    "a = np.array([1,2,3,5],dtype='f')"
   ]
  },
  {
   "cell_type": "code",
   "execution_count": 5,
   "id": "61374ec1-7fe3-40d5-94b8-4173960ca0e5",
   "metadata": {},
   "outputs": [],
   "source": [
    "b = np.array((1,5,6,7))"
   ]
  },
  {
   "cell_type": "code",
   "execution_count": 6,
   "id": "26f6967c-9d34-40b8-b16f-d4eed2511d2f",
   "metadata": {},
   "outputs": [
    {
     "name": "stdout",
     "output_type": "stream",
     "text": [
      "[1 5 6 7]\n"
     ]
    }
   ],
   "source": [
    "print(b)"
   ]
  },
  {
   "cell_type": "code",
   "execution_count": 7,
   "id": "8b83666e-62c1-435e-b9b6-c3e9ca9a87f0",
   "metadata": {},
   "outputs": [
    {
     "data": {
      "text/plain": [
       "numpy.ndarray"
      ]
     },
     "execution_count": 7,
     "metadata": {},
     "output_type": "execute_result"
    }
   ],
   "source": [
    "type(a)"
   ]
  },
  {
   "cell_type": "code",
   "execution_count": 8,
   "id": "5d6b66d0-daf3-4962-8f83-04d7714b0595",
   "metadata": {},
   "outputs": [
    {
     "data": {
      "text/plain": [
       "numpy.ndarray"
      ]
     },
     "execution_count": 8,
     "metadata": {},
     "output_type": "execute_result"
    }
   ],
   "source": [
    "type(b)"
   ]
  },
  {
   "cell_type": "code",
   "execution_count": 11,
   "id": "93498b41-d2ef-4708-aae6-acd9c4b2c5d6",
   "metadata": {},
   "outputs": [
    {
     "data": {
      "text/plain": [
       "dtype('float32')"
      ]
     },
     "execution_count": 11,
     "metadata": {},
     "output_type": "execute_result"
    }
   ],
   "source": [
    "a.dtype"
   ]
  },
  {
   "cell_type": "code",
   "execution_count": 12,
   "id": "d2b94f75-dbcf-4cb1-8399-d8f9f3b2b28e",
   "metadata": {},
   "outputs": [
    {
     "data": {
      "text/plain": [
       "dtype('int32')"
      ]
     },
     "execution_count": 12,
     "metadata": {},
     "output_type": "execute_result"
    }
   ],
   "source": [
    "b.dtype"
   ]
  },
  {
   "cell_type": "code",
   "execution_count": 13,
   "id": "d1ebd9f4-1c01-4d6c-9dcf-ff37b57a74fc",
   "metadata": {},
   "outputs": [],
   "source": [
    "#dtype stores the information of the datatype stored in the array."
   ]
  },
  {
   "cell_type": "code",
   "execution_count": 14,
   "id": "0583ce69-b91d-4e85-beb2-e02094fb9a88",
   "metadata": {},
   "outputs": [],
   "source": [
    "a = np.array([[1,2,3],[3,4,5]])"
   ]
  },
  {
   "cell_type": "code",
   "execution_count": 15,
   "id": "1c676449-c866-4300-ac6e-6a019110685f",
   "metadata": {},
   "outputs": [
    {
     "data": {
      "text/plain": [
       "2"
      ]
     },
     "execution_count": 15,
     "metadata": {},
     "output_type": "execute_result"
    }
   ],
   "source": [
    "a.ndim"
   ]
  },
  {
   "cell_type": "code",
   "execution_count": 16,
   "id": "aa73da6a-0695-483c-a498-ad9da74a6b00",
   "metadata": {},
   "outputs": [],
   "source": [
    "# ndim is used for finding the dimensions of an array. The 1-D arrays should have same no of elements inside a 2-D array in order to get a 2-D array\n",
    "# else it will be a 1-D array"
   ]
  },
  {
   "cell_type": "code",
   "execution_count": 17,
   "id": "35781745-58ea-4a92-b5f5-f2785c1288f8",
   "metadata": {},
   "outputs": [
    {
     "data": {
      "text/plain": [
       "5"
      ]
     },
     "execution_count": 17,
     "metadata": {},
     "output_type": "execute_result"
    }
   ],
   "source": [
    "a[1,2]"
   ]
  },
  {
   "cell_type": "code",
   "execution_count": 19,
   "id": "5cdb3bc8-2b5f-4f3b-a2bc-74c253297e77",
   "metadata": {},
   "outputs": [],
   "source": [
    "b = np.array([[[1,2,3],[4,2,1],[5,4,9]],[[8,7,5],[9,4,3],[2,1,0]]])"
   ]
  },
  {
   "cell_type": "code",
   "execution_count": 20,
   "id": "ed489d35-d965-4842-9ee3-00da882c3f5d",
   "metadata": {},
   "outputs": [
    {
     "data": {
      "text/plain": [
       "3"
      ]
     },
     "execution_count": 20,
     "metadata": {},
     "output_type": "execute_result"
    }
   ],
   "source": [
    "b.ndim"
   ]
  },
  {
   "cell_type": "code",
   "execution_count": 21,
   "id": "4e269b9d-f41f-46b6-a25e-b88a216aed1b",
   "metadata": {},
   "outputs": [
    {
     "data": {
      "text/plain": [
       "numpy.ndarray"
      ]
     },
     "execution_count": 21,
     "metadata": {},
     "output_type": "execute_result"
    }
   ],
   "source": [
    "type(b)"
   ]
  },
  {
   "cell_type": "code",
   "execution_count": 22,
   "id": "10c2cb60-d872-405f-a271-140af74d16e2",
   "metadata": {},
   "outputs": [
    {
     "data": {
      "text/plain": [
       "(2, 3, 3)"
      ]
     },
     "execution_count": 22,
     "metadata": {},
     "output_type": "execute_result"
    }
   ],
   "source": [
    "b.shape"
   ]
  },
  {
   "cell_type": "code",
   "execution_count": 25,
   "id": "f1144cad-3cea-4e34-83ce-06f4aca0ec97",
   "metadata": {},
   "outputs": [
    {
     "data": {
      "text/plain": [
       "2"
      ]
     },
     "execution_count": 25,
     "metadata": {},
     "output_type": "execute_result"
    }
   ],
   "source": [
    "b.shape[0] #used for finding no of 2-D arrays inside the 3-D array"
   ]
  },
  {
   "cell_type": "code",
   "execution_count": 26,
   "id": "b789b7e0-7758-40d7-86ac-03ef20f504e1",
   "metadata": {},
   "outputs": [
    {
     "data": {
      "text/plain": [
       "3"
      ]
     },
     "execution_count": 26,
     "metadata": {},
     "output_type": "execute_result"
    }
   ],
   "source": [
    "b.shape[1] #used for finding no of 1-D arrays inside the 2-D array"
   ]
  },
  {
   "cell_type": "code",
   "execution_count": 27,
   "id": "d97462bd-c433-4d0a-9148-d775f7bd9bc3",
   "metadata": {},
   "outputs": [
    {
     "data": {
      "text/plain": [
       "3"
      ]
     },
     "execution_count": 27,
     "metadata": {},
     "output_type": "execute_result"
    }
   ],
   "source": [
    "b.shape[2] #used for finding no of elements inside the 1-D array"
   ]
  },
  {
   "cell_type": "code",
   "execution_count": 28,
   "id": "192a98f4-720f-476f-8d9b-698d2c1afd5a",
   "metadata": {},
   "outputs": [],
   "source": [
    "#if you define the numpy array as np.array(2) then the dimension will be 0. Therefore the elements must be enclosed within paranthesis in order to\n",
    "# a non-zero dimensional array"
   ]
  },
  {
   "cell_type": "code",
   "execution_count": 29,
   "id": "748e4efe-883d-45c6-b52a-53aaa8d46d77",
   "metadata": {},
   "outputs": [
    {
     "data": {
      "text/plain": [
       "18"
      ]
     },
     "execution_count": 29,
     "metadata": {},
     "output_type": "execute_result"
    }
   ],
   "source": [
    "b.size"
   ]
  },
  {
   "cell_type": "code",
   "execution_count": 30,
   "id": "f3f74a8d-70e2-4315-bdd0-169c1c846377",
   "metadata": {},
   "outputs": [
    {
     "data": {
      "text/plain": [
       "72"
      ]
     },
     "execution_count": 30,
     "metadata": {},
     "output_type": "execute_result"
    }
   ],
   "source": [
    "b.nbytes"
   ]
  },
  {
   "cell_type": "code",
   "execution_count": 35,
   "id": "8fb7e214-ffbf-4d54-a58a-c2e7360a8a00",
   "metadata": {},
   "outputs": [],
   "source": [
    "a = np.arange(100)"
   ]
  },
  {
   "cell_type": "code",
   "execution_count": 36,
   "id": "b8bc94f4-b7bf-4630-9974-8943b8ba7bba",
   "metadata": {},
   "outputs": [
    {
     "name": "stdout",
     "output_type": "stream",
     "text": [
      "[ 0  1  2  3  4  5  6  7  8  9 10 11 12 13 14 15 16 17 18 19 20 21 22 23\n",
      " 24 25 26 27 28 29 30 31 32 33 34 35 36 37 38 39 40 41 42 43 44 45 46 47\n",
      " 48 49 50 51 52 53 54 55 56 57 58 59 60 61 62 63 64 65 66 67 68 69 70 71\n",
      " 72 73 74 75 76 77 78 79 80 81 82 83 84 85 86 87 88 89 90 91 92 93 94 95\n",
      " 96 97 98 99]\n"
     ]
    }
   ],
   "source": [
    "print(a)"
   ]
  },
  {
   "cell_type": "code",
   "execution_count": 37,
   "id": "adc110f4-b4fe-4f87-a8fe-f53068df6312",
   "metadata": {},
   "outputs": [],
   "source": [
    "a = np.arange(10,20)"
   ]
  },
  {
   "cell_type": "code",
   "execution_count": 38,
   "id": "eec7ad3f-64ec-4aca-b6c4-890609455ffc",
   "metadata": {},
   "outputs": [
    {
     "name": "stdout",
     "output_type": "stream",
     "text": [
      "[10 11 12 13 14 15 16 17 18 19]\n"
     ]
    }
   ],
   "source": [
    "print(a)"
   ]
  },
  {
   "cell_type": "code",
   "execution_count": 39,
   "id": "1306694e-d075-4b59-a90a-b0f83391d35a",
   "metadata": {},
   "outputs": [
    {
     "name": "stdout",
     "output_type": "stream",
     "text": [
      "[10 12 14 16 18]\n"
     ]
    }
   ],
   "source": [
    "a = np.arange(10,20,2)\n",
    "print(a)"
   ]
  },
  {
   "cell_type": "code",
   "execution_count": 40,
   "id": "b46abdde-a9f8-4d16-bf28-8e30c8230bc2",
   "metadata": {},
   "outputs": [
    {
     "name": "stdout",
     "output_type": "stream",
     "text": [
      "[8 9 4 7 1 3 6 5 0 2]\n"
     ]
    }
   ],
   "source": [
    "a = np.random.permutation(np.arange(10))\n",
    "print(a)"
   ]
  },
  {
   "cell_type": "code",
   "execution_count": 43,
   "id": "53a2c62b-a91f-4b0a-ad44-d4ee077937d4",
   "metadata": {},
   "outputs": [
    {
     "data": {
      "text/plain": [
       "25"
      ]
     },
     "execution_count": 43,
     "metadata": {},
     "output_type": "execute_result"
    }
   ],
   "source": [
    "np.random.randint(10,30)"
   ]
  },
  {
   "cell_type": "code",
   "execution_count": 44,
   "id": "eeb79132-b041-40c2-b7f9-64a1bc3c4483",
   "metadata": {},
   "outputs": [],
   "source": [
    "c = np.random.rand(2,3)"
   ]
  },
  {
   "cell_type": "code",
   "execution_count": 45,
   "id": "ec003d09-88ff-42dd-ae62-7186de2f4c5a",
   "metadata": {},
   "outputs": [
    {
     "data": {
      "text/plain": [
       "array([[0.72092275, 0.41167357, 0.65867203],\n",
       "       [0.36059043, 0.97631417, 0.79206603]])"
      ]
     },
     "execution_count": 45,
     "metadata": {},
     "output_type": "execute_result"
    }
   ],
   "source": [
    "c"
   ]
  },
  {
   "cell_type": "code",
   "execution_count": 46,
   "id": "00605ccf-0171-42bd-b475-199ef1cf1cd8",
   "metadata": {},
   "outputs": [
    {
     "data": {
      "text/plain": [
       "2"
      ]
     },
     "execution_count": 46,
     "metadata": {},
     "output_type": "execute_result"
    }
   ],
   "source": [
    "c.ndim"
   ]
  },
  {
   "cell_type": "code",
   "execution_count": 47,
   "id": "6ca74949-9f41-44a4-a6cd-7a4253770b01",
   "metadata": {},
   "outputs": [
    {
     "data": {
      "text/plain": [
       "array([[[[0.17879979, 0.40919085, 0.9023509 , 0.55436348],\n",
       "         [0.30892669, 0.41679783, 0.59828805, 0.5589763 ],\n",
       "         [0.97118404, 0.20274861, 0.70662685, 0.23651793]],\n",
       "\n",
       "        [[0.98206026, 0.7080113 , 0.89509871, 0.14844107],\n",
       "         [0.23265518, 0.15089049, 0.83219168, 0.03912325],\n",
       "         [0.27639652, 0.25716796, 0.07718639, 0.80049748]]]])"
      ]
     },
     "execution_count": 47,
     "metadata": {},
     "output_type": "execute_result"
    }
   ],
   "source": [
    "c = np.random.rand(1,2,3,4)\n",
    "c"
   ]
  },
  {
   "cell_type": "code",
   "execution_count": 48,
   "id": "5cb52c9e-a1cc-45af-986d-71a6b31f7d33",
   "metadata": {},
   "outputs": [
    {
     "data": {
      "text/plain": [
       "array([[ 0,  1,  2,  3],\n",
       "       [ 4,  5,  6,  7],\n",
       "       [ 8,  9, 10, 11],\n",
       "       [12, 13, 14, 15],\n",
       "       [16, 17, 18, 19],\n",
       "       [20, 21, 22, 23],\n",
       "       [24, 25, 26, 27],\n",
       "       [28, 29, 30, 31],\n",
       "       [32, 33, 34, 35],\n",
       "       [36, 37, 38, 39],\n",
       "       [40, 41, 42, 43],\n",
       "       [44, 45, 46, 47],\n",
       "       [48, 49, 50, 51],\n",
       "       [52, 53, 54, 55],\n",
       "       [56, 57, 58, 59],\n",
       "       [60, 61, 62, 63],\n",
       "       [64, 65, 66, 67],\n",
       "       [68, 69, 70, 71],\n",
       "       [72, 73, 74, 75],\n",
       "       [76, 77, 78, 79],\n",
       "       [80, 81, 82, 83],\n",
       "       [84, 85, 86, 87],\n",
       "       [88, 89, 90, 91],\n",
       "       [92, 93, 94, 95],\n",
       "       [96, 97, 98, 99]])"
      ]
     },
     "execution_count": 48,
     "metadata": {},
     "output_type": "execute_result"
    }
   ],
   "source": [
    "d = np.arange(100).reshape(25,4)\n",
    "d"
   ]
  },
  {
   "cell_type": "code",
   "execution_count": 49,
   "id": "b1680003-95cb-47c6-864b-c8e60750dea5",
   "metadata": {},
   "outputs": [],
   "source": [
    "# Slicing\n",
    "# A[start:stop:step]"
   ]
  },
  {
   "cell_type": "code",
   "execution_count": 50,
   "id": "50f176d6-27a0-4bd0-a5a2-e640c42d74d8",
   "metadata": {},
   "outputs": [],
   "source": [
    "# When you assign a slice to a variable, the memory is not copied rather the same memory location is accessed"
   ]
  },
  {
   "cell_type": "code",
   "execution_count": 51,
   "id": "780e5a24-df9d-49b4-9435-88ff6d986b86",
   "metadata": {},
   "outputs": [
    {
     "name": "stdout",
     "output_type": "stream",
     "text": [
      "[3 4 5 6 7 8 9]\n"
     ]
    }
   ],
   "source": [
    "a = np.arange(100)\n",
    "b = a[3:10]\n",
    "print(b)"
   ]
  },
  {
   "cell_type": "code",
   "execution_count": 52,
   "id": "e40929aa-037c-46a2-b65e-70d7fb3c7105",
   "metadata": {},
   "outputs": [
    {
     "name": "stdout",
     "output_type": "stream",
     "text": [
      "[20  4  5  6  7  8  9]\n",
      "[ 0  1  2 20  4  5  6  7  8  9 10 11 12 13 14 15 16 17 18 19 20 21 22 23\n",
      " 24 25 26 27 28 29 30 31 32 33 34 35 36 37 38 39 40 41 42 43 44 45 46 47\n",
      " 48 49 50 51 52 53 54 55 56 57 58 59 60 61 62 63 64 65 66 67 68 69 70 71\n",
      " 72 73 74 75 76 77 78 79 80 81 82 83 84 85 86 87 88 89 90 91 92 93 94 95\n",
      " 96 97 98 99]\n"
     ]
    }
   ],
   "source": [
    "b[0] = 20\n",
    "print(b)\n",
    "print(a)"
   ]
  },
  {
   "cell_type": "code",
   "execution_count": 53,
   "id": "f140cf56-b04a-4663-a9f5-32ebe175c2b1",
   "metadata": {},
   "outputs": [],
   "source": [
    "# but if you use b = a[3:0].copy() then the memory location is copied and any changes on b will not reflect to a"
   ]
  },
  {
   "cell_type": "code",
   "execution_count": 54,
   "id": "012c9f05-34ef-4828-89a7-0ddf7e7f7810",
   "metadata": {},
   "outputs": [
    {
     "data": {
      "text/plain": [
       "array([ 0,  5, 10, 15, 20, 25, 30, 35, 40, 45, 50, 55, 60, 65, 70, 75, 80,\n",
       "       85, 90, 95])"
      ]
     },
     "execution_count": 54,
     "metadata": {},
     "output_type": "execute_result"
    }
   ],
   "source": [
    "a[::5]"
   ]
  },
  {
   "cell_type": "code",
   "execution_count": 55,
   "id": "c8feac60-ae76-4f52-881a-aee217653fd8",
   "metadata": {},
   "outputs": [
    {
     "data": {
      "text/plain": [
       "array([99, 98, 97, 96, 95, 94, 93, 92, 91, 90, 89, 88, 87, 86, 85, 84, 83,\n",
       "       82, 81, 80, 79, 78, 77, 76, 75, 74, 73, 72, 71, 70, 69, 68, 67, 66,\n",
       "       65, 64, 63, 62, 61, 60, 59, 58, 57, 56, 55, 54, 53, 52, 51, 50, 49,\n",
       "       48, 47, 46, 45, 44, 43, 42, 41, 40, 39, 38, 37, 36, 35, 34, 33, 32,\n",
       "       31, 30, 29, 28, 27, 26, 25, 24, 23, 22, 21, 20, 19, 18, 17, 16, 15,\n",
       "       14, 13, 12, 11, 10,  9,  8,  7,  6,  5,  4, 20,  2,  1,  0])"
      ]
     },
     "execution_count": 55,
     "metadata": {},
     "output_type": "execute_result"
    }
   ],
   "source": [
    "a[::-1]"
   ]
  },
  {
   "cell_type": "code",
   "execution_count": 59,
   "id": "996d5ac6-ab3c-45f2-aa14-cf16f475a0f9",
   "metadata": {},
   "outputs": [
    {
     "data": {
      "text/plain": [
       "3"
      ]
     },
     "execution_count": 59,
     "metadata": {},
     "output_type": "execute_result"
    }
   ],
   "source": [
    "idx = np.argwhere(a==20)[0][0]\n",
    "idx"
   ]
  },
  {
   "cell_type": "code",
   "execution_count": 60,
   "id": "f8899483-42e2-49c6-bb4f-42596de586e6",
   "metadata": {},
   "outputs": [
    {
     "data": {
      "text/plain": [
       "array([ 0,  1,  2,  3,  4,  5,  6,  7,  8,  9, 10, 11, 12, 13, 14, 15, 16,\n",
       "       17, 18, 19, 20, 21, 22, 23, 24, 25, 26, 27, 28, 29, 30, 31, 32, 33,\n",
       "       34, 35, 36, 37, 38, 39, 40, 41, 42, 43, 44, 45, 46, 47, 48, 49, 50,\n",
       "       51, 52, 53, 54, 55, 56, 57, 58, 59, 60, 61, 62, 63, 64, 65, 66, 67,\n",
       "       68, 69, 70, 71, 72, 73, 74, 75, 76, 77, 78, 79, 80, 81, 82, 83, 84,\n",
       "       85, 86, 87, 88, 89, 90, 91, 92, 93, 94, 95, 96, 97, 98, 99])"
      ]
     },
     "execution_count": 60,
     "metadata": {},
     "output_type": "execute_result"
    }
   ],
   "source": [
    "a[3] = idx\n",
    "a"
   ]
  },
  {
   "cell_type": "code",
   "execution_count": 85,
   "id": "3a93222b-f4fd-413c-82ed-fce7d487f8fc",
   "metadata": {},
   "outputs": [
    {
     "data": {
      "text/plain": [
       "array([[10.,  2.,  7.,  4.],\n",
       "       [ 7.,  5., 10.,  6.],\n",
       "       [ 9., 10., 10.,  1.],\n",
       "       [ 1.,  4.,  9.,  7.],\n",
       "       [ 6.,  1.,  3.,  6.]])"
      ]
     },
     "execution_count": 85,
     "metadata": {},
     "output_type": "execute_result"
    }
   ],
   "source": [
    "a = np.round(10*np.random.rand(5,4))\n",
    "a"
   ]
  },
  {
   "cell_type": "code",
   "execution_count": 66,
   "id": "2bca2edc-c38a-4b72-bf3e-37c57364372a",
   "metadata": {},
   "outputs": [],
   "source": [
    "#Whole row can be accessed by a[row,:]"
   ]
  },
  {
   "cell_type": "code",
   "execution_count": 67,
   "id": "f5a87013-1a63-4d37-b14b-7cabde58cff1",
   "metadata": {},
   "outputs": [
    {
     "data": {
      "text/plain": [
       "array([10.,  7.,  9., 10.])"
      ]
     },
     "execution_count": 67,
     "metadata": {},
     "output_type": "execute_result"
    }
   ],
   "source": [
    "a[1,:]"
   ]
  },
  {
   "cell_type": "code",
   "execution_count": 68,
   "id": "21301c57-8ecf-44ea-8b21-4650782b6a49",
   "metadata": {},
   "outputs": [],
   "source": [
    "#Whole column can be accessed by a[:,col]"
   ]
  },
  {
   "cell_type": "code",
   "execution_count": 70,
   "id": "9d1e92be-d535-45b0-870b-a3ff451ebd2b",
   "metadata": {},
   "outputs": [
    {
     "data": {
      "text/plain": [
       "array([4., 9., 6., 2., 4.])"
      ]
     },
     "execution_count": 70,
     "metadata": {},
     "output_type": "execute_result"
    }
   ],
   "source": [
    "a[:,2]"
   ]
  },
  {
   "cell_type": "code",
   "execution_count": 71,
   "id": "9f430453-fff4-4f77-aa7f-0d4f974d8eed",
   "metadata": {},
   "outputs": [
    {
     "data": {
      "text/plain": [
       "array([[10.,  7.],\n",
       "       [ 6.,  3.]])"
      ]
     },
     "execution_count": 71,
     "metadata": {},
     "output_type": "execute_result"
    }
   ],
   "source": [
    "a[1:3,0:2]"
   ]
  },
  {
   "cell_type": "code",
   "execution_count": 72,
   "id": "0de3ff2f-f722-4df3-b6fe-0cbdf28f507f",
   "metadata": {},
   "outputs": [],
   "source": [
    "#transpose of matrix a.T"
   ]
  },
  {
   "cell_type": "code",
   "execution_count": 73,
   "id": "9ab3bb1f-0984-4c14-96d4-9459c85660eb",
   "metadata": {},
   "outputs": [
    {
     "data": {
      "text/plain": [
       "array([[ 0., 10.,  6.,  1.,  8.],\n",
       "       [ 7.,  7.,  3.,  9.,  3.],\n",
       "       [ 4.,  9.,  6.,  2.,  4.],\n",
       "       [ 5., 10.,  7.,  9.,  3.]])"
      ]
     },
     "execution_count": 73,
     "metadata": {},
     "output_type": "execute_result"
    }
   ],
   "source": [
    "a.T"
   ]
  },
  {
   "cell_type": "code",
   "execution_count": 74,
   "id": "8f7ff326-6b7b-474c-98b9-fd502c9b8a51",
   "metadata": {},
   "outputs": [],
   "source": [
    "import numpy.linalg as la"
   ]
  },
  {
   "cell_type": "code",
   "execution_count": 75,
   "id": "07d85d2a-be75-4109-b089-a2199dcec28f",
   "metadata": {},
   "outputs": [
    {
     "data": {
      "text/plain": [
       "array([[ 1.72659851,  0.10458729, -1.7427105 ],\n",
       "       [ 1.28438367, -1.84588839,  0.22830367],\n",
       "       [-1.68553894,  1.82033167,  1.47939129]])"
      ]
     },
     "execution_count": 75,
     "metadata": {},
     "output_type": "execute_result"
    }
   ],
   "source": [
    "la.inv(np.random.rand(3,3))"
   ]
  },
  {
   "cell_type": "code",
   "execution_count": 86,
   "id": "2f61d668-1aed-49dc-b544-5aa7a972b4b0",
   "metadata": {},
   "outputs": [],
   "source": [
    "a.sort(axis=0) #sorting across columns"
   ]
  },
  {
   "cell_type": "code",
   "execution_count": 87,
   "id": "2439c23c-bbe2-4a99-9dac-7ba17e3c3824",
   "metadata": {},
   "outputs": [
    {
     "data": {
      "text/plain": [
       "array([[ 1.,  1.,  3.,  1.],\n",
       "       [ 6.,  2.,  7.,  4.],\n",
       "       [ 7.,  4.,  9.,  6.],\n",
       "       [ 9.,  5., 10.,  6.],\n",
       "       [10., 10., 10.,  7.]])"
      ]
     },
     "execution_count": 87,
     "metadata": {},
     "output_type": "execute_result"
    }
   ],
   "source": [
    "a"
   ]
  },
  {
   "cell_type": "code",
   "execution_count": 88,
   "id": "68bce13e-c046-4277-baeb-9bdaf8f169a1",
   "metadata": {},
   "outputs": [],
   "source": [
    "a.sort(axis=1) #sorting across rows"
   ]
  },
  {
   "cell_type": "code",
   "execution_count": 89,
   "id": "0f3d9f09-3c56-4aa5-8165-ad424e9b4b15",
   "metadata": {},
   "outputs": [
    {
     "data": {
      "text/plain": [
       "array([[ 1.,  1.,  1.,  3.],\n",
       "       [ 2.,  4.,  6.,  7.],\n",
       "       [ 4.,  6.,  7.,  9.],\n",
       "       [ 5.,  6.,  9., 10.],\n",
       "       [ 7., 10., 10., 10.]])"
      ]
     },
     "execution_count": 89,
     "metadata": {},
     "output_type": "execute_result"
    }
   ],
   "source": [
    "a"
   ]
  },
  {
   "cell_type": "code",
   "execution_count": 90,
   "id": "05e5b0c2-05fe-4dbc-b654-a13213adc05a",
   "metadata": {},
   "outputs": [
    {
     "data": {
      "text/plain": [
       "array([3, 6, 7])"
      ]
     },
     "execution_count": 90,
     "metadata": {},
     "output_type": "execute_result"
    }
   ],
   "source": [
    "a = np.arange(100)\n",
    "b = a[[3,6,7]]\n",
    "b"
   ]
  },
  {
   "cell_type": "code",
   "execution_count": 91,
   "id": "f1a59a8e-1b9f-4d3c-8d58-657723c5a47d",
   "metadata": {},
   "outputs": [],
   "source": [
    "#here if you try to make any changes to b it doesn't reflect to a"
   ]
  },
  {
   "cell_type": "code",
   "execution_count": 92,
   "id": "9c77dbcb-0dc7-4786-b60c-2c3d23b788ee",
   "metadata": {},
   "outputs": [],
   "source": [
    "b[0] = -2"
   ]
  },
  {
   "cell_type": "code",
   "execution_count": 93,
   "id": "f1483230-9b9b-4ebc-8ff5-0c207783d87a",
   "metadata": {},
   "outputs": [
    {
     "data": {
      "text/plain": [
       "array([-2,  6,  7])"
      ]
     },
     "execution_count": 93,
     "metadata": {},
     "output_type": "execute_result"
    }
   ],
   "source": [
    "b"
   ]
  },
  {
   "cell_type": "code",
   "execution_count": 94,
   "id": "376fe81c-b9a1-492a-8a06-c27d505d26ed",
   "metadata": {},
   "outputs": [
    {
     "data": {
      "text/plain": [
       "array([ 0,  1,  2,  3,  4,  5,  6,  7,  8,  9, 10, 11, 12, 13, 14, 15, 16,\n",
       "       17, 18, 19, 20, 21, 22, 23, 24, 25, 26, 27, 28, 29, 30, 31, 32, 33,\n",
       "       34, 35, 36, 37, 38, 39, 40, 41, 42, 43, 44, 45, 46, 47, 48, 49, 50,\n",
       "       51, 52, 53, 54, 55, 56, 57, 58, 59, 60, 61, 62, 63, 64, 65, 66, 67,\n",
       "       68, 69, 70, 71, 72, 73, 74, 75, 76, 77, 78, 79, 80, 81, 82, 83, 84,\n",
       "       85, 86, 87, 88, 89, 90, 91, 92, 93, 94, 95, 96, 97, 98, 99])"
      ]
     },
     "execution_count": 94,
     "metadata": {},
     "output_type": "execute_result"
    }
   ],
   "source": [
    "a"
   ]
  },
  {
   "cell_type": "code",
   "execution_count": 95,
   "id": "9e4b576b-1ab9-4bb0-93dd-f03f0303167e",
   "metadata": {},
   "outputs": [],
   "source": [
    "b = a[(a>30) & (a<40)]"
   ]
  },
  {
   "cell_type": "code",
   "execution_count": 96,
   "id": "a1cf6ba0-8935-4387-b503-3564bb36d881",
   "metadata": {},
   "outputs": [
    {
     "data": {
      "text/plain": [
       "array([31, 32, 33, 34, 35, 36, 37, 38, 39])"
      ]
     },
     "execution_count": 96,
     "metadata": {},
     "output_type": "execute_result"
    }
   ],
   "source": [
    "b"
   ]
  },
  {
   "cell_type": "code",
   "execution_count": 97,
   "id": "61c4f89d-6c06-430d-b6b7-a43ad4ab44b6",
   "metadata": {},
   "outputs": [],
   "source": [
    "# & is used for arrays while and is used for single objects. similarly (|,or) ,(~,not)"
   ]
  },
  {
   "cell_type": "code",
   "execution_count": 98,
   "id": "b34bfb9b-f658-4f92-9b45-07ff625fe586",
   "metadata": {},
   "outputs": [],
   "source": [
    "# broadcasting"
   ]
  },
  {
   "cell_type": "code",
   "execution_count": 99,
   "id": "f13d7f43-8a2b-46bd-9cf5-d88391608497",
   "metadata": {},
   "outputs": [
    {
     "data": {
      "text/plain": [
       "array([36, 37, 38, 39, 40, 41, 42, 43, 44])"
      ]
     },
     "execution_count": 99,
     "metadata": {},
     "output_type": "execute_result"
    }
   ],
   "source": [
    "b = b+5\n",
    "b"
   ]
  },
  {
   "cell_type": "code",
   "execution_count": 100,
   "id": "2cc19309-4ac6-437b-a160-06af376d018f",
   "metadata": {},
   "outputs": [],
   "source": [
    "# You can also broadcast a row or column into a matrix. "
   ]
  },
  {
   "cell_type": "code",
   "execution_count": 101,
   "id": "6b2b7be5-53ab-4a02-adb5-22c94fa41147",
   "metadata": {},
   "outputs": [],
   "source": [
    "# Universal functions: These functions are very fast. it should be used instead of for loops. it is used for vectorised implementation.\n",
    "# e.g: np.hstack (concatenates two matrices horizontally) , np.vstack (concatenates vertically) , np.sort"
   ]
  },
  {
   "cell_type": "code",
   "execution_count": 114,
   "id": "569b1ec6-7044-4eec-a329-d210bf973398",
   "metadata": {},
   "outputs": [
    {
     "data": {
      "text/plain": [
       "array([[6., 6., 3.],\n",
       "       [6., 5., 8.]])"
      ]
     },
     "execution_count": 114,
     "metadata": {},
     "output_type": "execute_result"
    }
   ],
   "source": [
    "a = np.round(10*np.random.rand(2,3))\n",
    "a"
   ]
  },
  {
   "cell_type": "code",
   "execution_count": 115,
   "id": "68ab8e99-2715-472c-a2ec-83570d86cd56",
   "metadata": {},
   "outputs": [
    {
     "data": {
      "text/plain": [
       "array([[ 9.,  9.,  6.],\n",
       "       [ 9.,  8., 11.]])"
      ]
     },
     "execution_count": 115,
     "metadata": {},
     "output_type": "execute_result"
    }
   ],
   "source": [
    "a+3"
   ]
  },
  {
   "cell_type": "code",
   "execution_count": 121,
   "id": "dbb713bc-c550-40ca-af11-ce0193f69005",
   "metadata": {},
   "outputs": [
    {
     "data": {
      "text/plain": [
       "array([[6., 6., 3.],\n",
       "       [7., 6., 9.]])"
      ]
     },
     "execution_count": 121,
     "metadata": {},
     "output_type": "execute_result"
    }
   ],
   "source": [
    "a + (np.arange(2).reshape(2,1))"
   ]
  },
  {
   "cell_type": "code",
   "execution_count": 122,
   "id": "b6a3b2fd-1346-45f4-b555-316ad838b722",
   "metadata": {},
   "outputs": [],
   "source": [
    "b = np.round(10*np.random.rand(2,2))"
   ]
  },
  {
   "cell_type": "code",
   "execution_count": 119,
   "id": "b1fedd12-a0b8-43b6-9cdd-c611e289d200",
   "metadata": {},
   "outputs": [
    {
     "data": {
      "text/plain": [
       "array([[ 3.,  6.],\n",
       "       [10.,  3.]])"
      ]
     },
     "execution_count": 119,
     "metadata": {},
     "output_type": "execute_result"
    }
   ],
   "source": [
    "b"
   ]
  },
  {
   "cell_type": "code",
   "execution_count": 123,
   "id": "e9f4efbd-ef68-44a6-916c-6edc7c4ed785",
   "metadata": {},
   "outputs": [
    {
     "data": {
      "text/plain": [
       "array([[6., 6., 3., 4., 0.],\n",
       "       [6., 5., 8., 6., 1.]])"
      ]
     },
     "execution_count": 123,
     "metadata": {},
     "output_type": "execute_result"
    }
   ],
   "source": [
    "c = np.hstack((a,b))\n",
    "c"
   ]
  },
  {
   "cell_type": "code",
   "execution_count": 124,
   "id": "32d5227e-4dc5-4cf6-b8be-d2deb29bba15",
   "metadata": {},
   "outputs": [
    {
     "data": {
      "text/plain": [
       "array([1, 7, 5, 2, 6, 4, 0, 9, 8, 3])"
      ]
     },
     "execution_count": 124,
     "metadata": {},
     "output_type": "execute_result"
    }
   ],
   "source": [
    "a = np.random.permutation(np.arange(10))\n",
    "a"
   ]
  },
  {
   "cell_type": "code",
   "execution_count": 128,
   "id": "aa2938a3-35d5-4015-a012-c93b2022999d",
   "metadata": {},
   "outputs": [],
   "source": [
    "a.sort()"
   ]
  },
  {
   "cell_type": "code",
   "execution_count": 129,
   "id": "88043802-b31c-4cda-8597-dc20b7ce171e",
   "metadata": {},
   "outputs": [
    {
     "data": {
      "text/plain": [
       "array([0, 1, 2, 3, 4, 5, 6, 7, 8, 9])"
      ]
     },
     "execution_count": 129,
     "metadata": {},
     "output_type": "execute_result"
    }
   ],
   "source": [
    "a"
   ]
  },
  {
   "cell_type": "code",
   "execution_count": 130,
   "id": "960c238c-f7cd-4c81-b950-3856a268afc0",
   "metadata": {},
   "outputs": [
    {
     "data": {
      "text/plain": [
       "array([9, 8, 7, 6, 5, 4, 3, 2, 1, 0])"
      ]
     },
     "execution_count": 130,
     "metadata": {},
     "output_type": "execute_result"
    }
   ],
   "source": [
    "a = a[::-1]\n",
    "a"
   ]
  },
  {
   "cell_type": "code",
   "execution_count": 132,
   "id": "038431b3-c051-45e7-ac2f-8a73e64f4615",
   "metadata": {},
   "outputs": [
    {
     "data": {
      "text/plain": [
       "array([0, 1, 2, 3, 4, 5, 6, 7, 8, 9])"
      ]
     },
     "execution_count": 132,
     "metadata": {},
     "output_type": "execute_result"
    }
   ],
   "source": [
    "np.sort(a)"
   ]
  },
  {
   "cell_type": "code",
   "execution_count": 133,
   "id": "cbff9425-e684-4e25-a81c-cf9bc5d73e19",
   "metadata": {},
   "outputs": [],
   "source": [
    "a = np.array([\"hello\",\"23Jacks\", \"Zachary\" , \"&hello\"])\n",
    "a.sort()"
   ]
  },
  {
   "cell_type": "code",
   "execution_count": 134,
   "id": "9a2bfc0c-94bf-47d7-94f1-0389bd423764",
   "metadata": {},
   "outputs": [
    {
     "data": {
      "text/plain": [
       "array(['&hello', '23Jacks', 'Zachary', 'hello'], dtype='<U7')"
      ]
     },
     "execution_count": 134,
     "metadata": {},
     "output_type": "execute_result"
    }
   ],
   "source": [
    "a"
   ]
  },
  {
   "cell_type": "code",
   "execution_count": 136,
   "id": "54bac2e7-0149-4f09-ae7a-6becc9826f35",
   "metadata": {},
   "outputs": [
    {
     "name": "stdout",
     "output_type": "stream",
     "text": [
      "200 ms ± 13.2 ms per loop (mean ± std. dev. of 7 runs, 1 loop each)\n",
      "1.45 ms ± 62.3 µs per loop (mean ± std. dev. of 7 runs, 1,000 loops each)\n"
     ]
    }
   ],
   "source": [
    "b = np.random.rand(1000000)\n",
    "%timeit sum(b)\n",
    "%timeit np.sum(b)"
   ]
  },
  {
   "cell_type": "code",
   "execution_count": null,
   "id": "e815d124-1474-439c-9bb5-6f89b563260b",
   "metadata": {},
   "outputs": [],
   "source": []
  }
 ],
 "metadata": {
  "kernelspec": {
   "display_name": "Python 3 (ipykernel)",
   "language": "python",
   "name": "python3"
  },
  "language_info": {
   "codemirror_mode": {
    "name": "ipython",
    "version": 3
   },
   "file_extension": ".py",
   "mimetype": "text/x-python",
   "name": "python",
   "nbconvert_exporter": "python",
   "pygments_lexer": "ipython3",
   "version": "3.11.7"
  }
 },
 "nbformat": 4,
 "nbformat_minor": 5
}
